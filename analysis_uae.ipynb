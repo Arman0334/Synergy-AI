{
 "cells": [
  {
   "metadata": {},
   "cell_type": "markdown",
   "source": "# Airline Flight Fare Prediction: Machine Learning Model",
   "id": "a40a142c18843262"
  },
  {
   "metadata": {},
   "cell_type": "markdown",
   "source": "## Data Exploration",
   "id": "9bcc59c17427476b"
  },
  {
   "metadata": {
    "ExecuteTime": {
     "end_time": "2025-02-22T18:31:51.696768Z",
     "start_time": "2025-02-22T18:31:46.853268Z"
    }
   },
   "cell_type": "code",
   "source": [
    "import pandas as pd\n",
    "\n",
    "df = pd.read_csv('uaeflights.csv')\n",
    "df"
   ],
   "id": "c47a50a128cd3f74",
   "outputs": [
    {
     "data": {
      "text/plain": [
       "               airline     source destination     depart    arrival  stops  \\\n",
       "0            Fly Dubai  Abu Dhabi   Frankfurt    Evening    Evening      0   \n",
       "1       Etihad Airways    Sharjah       Paris      Night    Evening      1   \n",
       "2             Emirates    Sharjah    Istanbul    Morning  Afternoon      0   \n",
       "3            Fly Dubai    Sharjah    New York  Afternoon      Night      1   \n",
       "4            Fly Dubai    Sharjah      London  Afternoon      Night      2   \n",
       "...                ...        ...         ...        ...        ...    ...   \n",
       "299995  Etihad Airways    Sharjah      London      Night  Afternoon      1   \n",
       "299996       Fly Dubai    Sharjah    Istanbul      Night      Night      0   \n",
       "299997      Air Arabia      Dubai     Bangkok  Afternoon    Evening      1   \n",
       "299998  Etihad Airways      Dubai   Frankfurt  Afternoon      Night      2   \n",
       "299999  Etihad Airways      Dubai       Paris    Evening  Afternoon      0   \n",
       "\n",
       "              class  duration  days_left  price  \n",
       "0       First Class        11        355   5366  \n",
       "1       First Class         7        308   5476  \n",
       "2           Economy         3         57    761  \n",
       "3           Economy        10         60   1610  \n",
       "4           Economy         7         93   1691  \n",
       "...             ...       ...        ...    ...  \n",
       "299995     Business         3        336   1906  \n",
       "299996  First Class        14         79   6261  \n",
       "299997     Business        13         27   3457  \n",
       "299998     Business        13          5   3872  \n",
       "299999      Economy         3        133    478  \n",
       "\n",
       "[300000 rows x 10 columns]"
      ],
      "text/html": [
       "<div>\n",
       "<style scoped>\n",
       "    .dataframe tbody tr th:only-of-type {\n",
       "        vertical-align: middle;\n",
       "    }\n",
       "\n",
       "    .dataframe tbody tr th {\n",
       "        vertical-align: top;\n",
       "    }\n",
       "\n",
       "    .dataframe thead th {\n",
       "        text-align: right;\n",
       "    }\n",
       "</style>\n",
       "<table border=\"1\" class=\"dataframe\">\n",
       "  <thead>\n",
       "    <tr style=\"text-align: right;\">\n",
       "      <th></th>\n",
       "      <th>airline</th>\n",
       "      <th>source</th>\n",
       "      <th>destination</th>\n",
       "      <th>depart</th>\n",
       "      <th>arrival</th>\n",
       "      <th>stops</th>\n",
       "      <th>class</th>\n",
       "      <th>duration</th>\n",
       "      <th>days_left</th>\n",
       "      <th>price</th>\n",
       "    </tr>\n",
       "  </thead>\n",
       "  <tbody>\n",
       "    <tr>\n",
       "      <th>0</th>\n",
       "      <td>Fly Dubai</td>\n",
       "      <td>Abu Dhabi</td>\n",
       "      <td>Frankfurt</td>\n",
       "      <td>Evening</td>\n",
       "      <td>Evening</td>\n",
       "      <td>0</td>\n",
       "      <td>First Class</td>\n",
       "      <td>11</td>\n",
       "      <td>355</td>\n",
       "      <td>5366</td>\n",
       "    </tr>\n",
       "    <tr>\n",
       "      <th>1</th>\n",
       "      <td>Etihad Airways</td>\n",
       "      <td>Sharjah</td>\n",
       "      <td>Paris</td>\n",
       "      <td>Night</td>\n",
       "      <td>Evening</td>\n",
       "      <td>1</td>\n",
       "      <td>First Class</td>\n",
       "      <td>7</td>\n",
       "      <td>308</td>\n",
       "      <td>5476</td>\n",
       "    </tr>\n",
       "    <tr>\n",
       "      <th>2</th>\n",
       "      <td>Emirates</td>\n",
       "      <td>Sharjah</td>\n",
       "      <td>Istanbul</td>\n",
       "      <td>Morning</td>\n",
       "      <td>Afternoon</td>\n",
       "      <td>0</td>\n",
       "      <td>Economy</td>\n",
       "      <td>3</td>\n",
       "      <td>57</td>\n",
       "      <td>761</td>\n",
       "    </tr>\n",
       "    <tr>\n",
       "      <th>3</th>\n",
       "      <td>Fly Dubai</td>\n",
       "      <td>Sharjah</td>\n",
       "      <td>New York</td>\n",
       "      <td>Afternoon</td>\n",
       "      <td>Night</td>\n",
       "      <td>1</td>\n",
       "      <td>Economy</td>\n",
       "      <td>10</td>\n",
       "      <td>60</td>\n",
       "      <td>1610</td>\n",
       "    </tr>\n",
       "    <tr>\n",
       "      <th>4</th>\n",
       "      <td>Fly Dubai</td>\n",
       "      <td>Sharjah</td>\n",
       "      <td>London</td>\n",
       "      <td>Afternoon</td>\n",
       "      <td>Night</td>\n",
       "      <td>2</td>\n",
       "      <td>Economy</td>\n",
       "      <td>7</td>\n",
       "      <td>93</td>\n",
       "      <td>1691</td>\n",
       "    </tr>\n",
       "    <tr>\n",
       "      <th>...</th>\n",
       "      <td>...</td>\n",
       "      <td>...</td>\n",
       "      <td>...</td>\n",
       "      <td>...</td>\n",
       "      <td>...</td>\n",
       "      <td>...</td>\n",
       "      <td>...</td>\n",
       "      <td>...</td>\n",
       "      <td>...</td>\n",
       "      <td>...</td>\n",
       "    </tr>\n",
       "    <tr>\n",
       "      <th>299995</th>\n",
       "      <td>Etihad Airways</td>\n",
       "      <td>Sharjah</td>\n",
       "      <td>London</td>\n",
       "      <td>Night</td>\n",
       "      <td>Afternoon</td>\n",
       "      <td>1</td>\n",
       "      <td>Business</td>\n",
       "      <td>3</td>\n",
       "      <td>336</td>\n",
       "      <td>1906</td>\n",
       "    </tr>\n",
       "    <tr>\n",
       "      <th>299996</th>\n",
       "      <td>Fly Dubai</td>\n",
       "      <td>Sharjah</td>\n",
       "      <td>Istanbul</td>\n",
       "      <td>Night</td>\n",
       "      <td>Night</td>\n",
       "      <td>0</td>\n",
       "      <td>First Class</td>\n",
       "      <td>14</td>\n",
       "      <td>79</td>\n",
       "      <td>6261</td>\n",
       "    </tr>\n",
       "    <tr>\n",
       "      <th>299997</th>\n",
       "      <td>Air Arabia</td>\n",
       "      <td>Dubai</td>\n",
       "      <td>Bangkok</td>\n",
       "      <td>Afternoon</td>\n",
       "      <td>Evening</td>\n",
       "      <td>1</td>\n",
       "      <td>Business</td>\n",
       "      <td>13</td>\n",
       "      <td>27</td>\n",
       "      <td>3457</td>\n",
       "    </tr>\n",
       "    <tr>\n",
       "      <th>299998</th>\n",
       "      <td>Etihad Airways</td>\n",
       "      <td>Dubai</td>\n",
       "      <td>Frankfurt</td>\n",
       "      <td>Afternoon</td>\n",
       "      <td>Night</td>\n",
       "      <td>2</td>\n",
       "      <td>Business</td>\n",
       "      <td>13</td>\n",
       "      <td>5</td>\n",
       "      <td>3872</td>\n",
       "    </tr>\n",
       "    <tr>\n",
       "      <th>299999</th>\n",
       "      <td>Etihad Airways</td>\n",
       "      <td>Dubai</td>\n",
       "      <td>Paris</td>\n",
       "      <td>Evening</td>\n",
       "      <td>Afternoon</td>\n",
       "      <td>0</td>\n",
       "      <td>Economy</td>\n",
       "      <td>3</td>\n",
       "      <td>133</td>\n",
       "      <td>478</td>\n",
       "    </tr>\n",
       "  </tbody>\n",
       "</table>\n",
       "<p>300000 rows × 10 columns</p>\n",
       "</div>"
      ]
     },
     "execution_count": 1,
     "metadata": {},
     "output_type": "execute_result"
    }
   ],
   "execution_count": 1
  },
  {
   "metadata": {
    "ExecuteTime": {
     "end_time": "2025-02-12T20:03:10.867515Z",
     "start_time": "2025-02-12T20:03:10.819725Z"
    }
   },
   "cell_type": "code",
   "source": "df.airline.value_counts()",
   "id": "474298886dde33d7",
   "outputs": [
    {
     "data": {
      "text/plain": [
       "airline\n",
       "Emirates          75215\n",
       "Air Arabia        75193\n",
       "Etihad Airways    74981\n",
       "Fly Dubai         74611\n",
       "Name: count, dtype: int64"
      ]
     },
     "execution_count": 3,
     "metadata": {},
     "output_type": "execute_result"
    }
   ],
   "execution_count": 3
  },
  {
   "metadata": {
    "ExecuteTime": {
     "end_time": "2025-02-12T20:03:13.789872Z",
     "start_time": "2025-02-12T20:03:13.744018Z"
    }
   },
   "cell_type": "code",
   "source": "df.source.value_counts()",
   "id": "cfdd90046ff9bb1b",
   "outputs": [
    {
     "data": {
      "text/plain": [
       "source\n",
       "Abu Dhabi    100361\n",
       "Dubai         99958\n",
       "Sharjah       99681\n",
       "Name: count, dtype: int64"
      ]
     },
     "execution_count": 4,
     "metadata": {},
     "output_type": "execute_result"
    }
   ],
   "execution_count": 4
  },
  {
   "metadata": {
    "ExecuteTime": {
     "end_time": "2025-02-12T20:03:16.636999Z",
     "start_time": "2025-02-12T20:03:16.567963Z"
    }
   },
   "cell_type": "code",
   "source": "df.destination.value_counts()",
   "id": "469908a4fdbcfb21",
   "outputs": [
    {
     "data": {
      "text/plain": [
       "destination\n",
       "Paris        30257\n",
       "Mumbai       30164\n",
       "Cairo        30065\n",
       "London       30055\n",
       "New York     30042\n",
       "Singapore    30025\n",
       "Istanbul     29928\n",
       "Sydney       29881\n",
       "Frankfurt    29844\n",
       "Bangkok      29739\n",
       "Name: count, dtype: int64"
      ]
     },
     "execution_count": 5,
     "metadata": {},
     "output_type": "execute_result"
    }
   ],
   "execution_count": 5
  },
  {
   "metadata": {
    "ExecuteTime": {
     "end_time": "2025-02-12T20:03:19.776081Z",
     "start_time": "2025-02-12T20:03:19.696413Z"
    }
   },
   "cell_type": "code",
   "source": "df.depart.value_counts()",
   "id": "c65d4ca108d7d695",
   "outputs": [
    {
     "data": {
      "text/plain": [
       "depart\n",
       "Morning      75286\n",
       "Evening      75082\n",
       "Night        74828\n",
       "Afternoon    74804\n",
       "Name: count, dtype: int64"
      ]
     },
     "execution_count": 6,
     "metadata": {},
     "output_type": "execute_result"
    }
   ],
   "execution_count": 6
  },
  {
   "metadata": {
    "ExecuteTime": {
     "end_time": "2025-02-12T20:03:22.487525Z",
     "start_time": "2025-02-12T20:03:22.412581Z"
    }
   },
   "cell_type": "code",
   "source": "df.arrival.value_counts()",
   "id": "8fcee5200d63f46f",
   "outputs": [
    {
     "data": {
      "text/plain": [
       "arrival\n",
       "Afternoon    75176\n",
       "Evening      75091\n",
       "Night        75083\n",
       "Morning      74650\n",
       "Name: count, dtype: int64"
      ]
     },
     "execution_count": 7,
     "metadata": {},
     "output_type": "execute_result"
    }
   ],
   "execution_count": 7
  },
  {
   "metadata": {
    "ExecuteTime": {
     "end_time": "2025-02-12T20:03:25.398885Z",
     "start_time": "2025-02-12T20:03:25.378415Z"
    }
   },
   "cell_type": "code",
   "source": "df.stops.value_counts()",
   "id": "aa64b835cb698b2f",
   "outputs": [
    {
     "data": {
      "text/plain": [
       "stops\n",
       "1    100427\n",
       "2    100007\n",
       "0     99566\n",
       "Name: count, dtype: int64"
      ]
     },
     "execution_count": 8,
     "metadata": {},
     "output_type": "execute_result"
    }
   ],
   "execution_count": 8
  },
  {
   "metadata": {
    "ExecuteTime": {
     "end_time": "2025-02-12T20:03:28.330720Z",
     "start_time": "2025-02-12T20:03:28.256679Z"
    }
   },
   "cell_type": "code",
   "source": "df[\"class\"].value_counts()",
   "id": "193ca74e5c7ac948",
   "outputs": [
    {
     "data": {
      "text/plain": [
       "class\n",
       "First Class    100243\n",
       "Business       100008\n",
       "Economy         99749\n",
       "Name: count, dtype: int64"
      ]
     },
     "execution_count": 9,
     "metadata": {},
     "output_type": "execute_result"
    }
   ],
   "execution_count": 9
  },
  {
   "metadata": {
    "ExecuteTime": {
     "end_time": "2025-02-12T20:03:31.250012Z",
     "start_time": "2025-02-12T20:03:31.229388Z"
    }
   },
   "cell_type": "code",
   "source": "df.duration.value_counts()",
   "id": "2a72939e9849cd69",
   "outputs": [
    {
     "data": {
      "text/plain": [
       "duration\n",
       "7     23438\n",
       "13    23205\n",
       "5     23202\n",
       "14    23088\n",
       "3     23084\n",
       "9     23076\n",
       "8     23066\n",
       "12    23054\n",
       "10    23009\n",
       "2     22955\n",
       "4     22947\n",
       "6     22941\n",
       "11    22935\n",
       "Name: count, dtype: int64"
      ]
     },
     "execution_count": 10,
     "metadata": {},
     "output_type": "execute_result"
    }
   ],
   "execution_count": 10
  },
  {
   "metadata": {
    "ExecuteTime": {
     "end_time": "2025-02-12T20:03:33.967254Z",
     "start_time": "2025-02-12T20:03:33.942127Z"
    }
   },
   "cell_type": "code",
   "source": "df.days_left.value_counts()",
   "id": "8d8f694dd2551990",
   "outputs": [
    {
     "data": {
      "text/plain": [
       "days_left\n",
       "215    913\n",
       "296    905\n",
       "131    904\n",
       "263    903\n",
       "253    896\n",
       "      ... \n",
       "149    765\n",
       "94     761\n",
       "127    749\n",
       "162    741\n",
       "168    730\n",
       "Name: count, Length: 364, dtype: int64"
      ]
     },
     "execution_count": 11,
     "metadata": {},
     "output_type": "execute_result"
    }
   ],
   "execution_count": 11
  },
  {
   "metadata": {
    "ExecuteTime": {
     "end_time": "2025-02-12T20:03:37.474692Z",
     "start_time": "2025-02-12T20:03:37.436466Z"
    }
   },
   "cell_type": "code",
   "source": "df.price.value_counts()",
   "id": "dd11b8a807750bdf",
   "outputs": [
    {
     "data": {
      "text/plain": [
       "price\n",
       "300     2770\n",
       "1156     101\n",
       "5684     101\n",
       "2513      99\n",
       "5789      98\n",
       "        ... \n",
       "4460       1\n",
       "4498       1\n",
       "3946       1\n",
       "7084       1\n",
       "4061       1\n",
       "Name: count, Length: 6356, dtype: int64"
      ]
     },
     "execution_count": 12,
     "metadata": {},
     "output_type": "execute_result"
    }
   ],
   "execution_count": 12
  },
  {
   "metadata": {},
   "cell_type": "markdown",
   "source": "## Data Preprocessing",
   "id": "59e294bfe3a4c869"
  },
  {
   "metadata": {
    "ExecuteTime": {
     "end_time": "2025-02-12T20:03:40.972076Z",
     "start_time": "2025-02-12T20:03:40.767798Z"
    }
   },
   "cell_type": "code",
   "source": "df['class'] = df['class'].apply(lambda x: 1 if x == \"Business\" else (2 if x == \"First Class\" else 0))",
   "id": "8cdc65b7f9e7546e",
   "outputs": [],
   "execution_count": 13
  },
  {
   "metadata": {
    "ExecuteTime": {
     "end_time": "2025-02-12T20:03:43.066023Z",
     "start_time": "2025-02-12T20:03:42.860393Z"
    }
   },
   "cell_type": "code",
   "source": "df['source'] = df['source'].apply(lambda x: 1 if x == \"Sharjah\" else (2 if x == \"Abu Dhabi\" else 0))",
   "id": "11982a3485696cae",
   "outputs": [],
   "execution_count": 14
  },
  {
   "metadata": {
    "ExecuteTime": {
     "end_time": "2025-02-12T20:03:45.227503Z",
     "start_time": "2025-02-12T20:03:44.799773Z"
    }
   },
   "cell_type": "code",
   "source": [
    "df = df.join(pd.get_dummies(df.airline, prefix='airline')).drop('airline', axis=1)\n",
    "df = df.join(pd.get_dummies(df.depart, prefix='depart')).drop('depart', axis=1)\n",
    "df = df.join(pd.get_dummies(df.arrival, prefix='arrival')).drop('arrival', axis=1)\n",
    "df = df.join(pd.get_dummies(df.destination, prefix='destination')).drop('destination', axis=1)"
   ],
   "id": "959a7a87ed2267d9",
   "outputs": [],
   "execution_count": 15
  },
  {
   "metadata": {},
   "cell_type": "markdown",
   "source": "## Model Training",
   "id": "bcf99128691f1069"
  },
  {
   "metadata": {
    "ExecuteTime": {
     "end_time": "2025-02-12T20:03:51.456821Z",
     "start_time": "2025-02-12T20:03:47.896483Z"
    }
   },
   "cell_type": "code",
   "source": [
    "from sklearn.model_selection import train_test_split\n",
    "from sklearn.ensemble import RandomForestRegressor\n",
    "\n",
    "x, y = df.drop('price', axis=1), df.price\n"
   ],
   "id": "767808e6f59fdc11",
   "outputs": [],
   "execution_count": 16
  },
  {
   "metadata": {
    "ExecuteTime": {
     "end_time": "2025-02-12T20:03:54.190503Z",
     "start_time": "2025-02-12T20:03:54.096042Z"
    }
   },
   "cell_type": "code",
   "source": "x_train, x_test, y_train, y_test = train_test_split(x, y, test_size=0.2)",
   "id": "fa488e8dab81be95",
   "outputs": [],
   "execution_count": 17
  },
  {
   "metadata": {
    "ExecuteTime": {
     "end_time": "2025-02-12T20:04:23.764666Z",
     "start_time": "2025-02-12T20:03:56.115198Z"
    }
   },
   "cell_type": "code",
   "source": [
    "reg = RandomForestRegressor(n_jobs=-1)\n",
    "reg.fit(x_train, y_train)"
   ],
   "id": "79c6dae53dd4a294",
   "outputs": [
    {
     "data": {
      "text/plain": [
       "RandomForestRegressor(n_jobs=-1)"
      ],
      "text/html": [
       "<style>#sk-container-id-1 {\n",
       "  /* Definition of color scheme common for light and dark mode */\n",
       "  --sklearn-color-text: #000;\n",
       "  --sklearn-color-text-muted: #666;\n",
       "  --sklearn-color-line: gray;\n",
       "  /* Definition of color scheme for unfitted estimators */\n",
       "  --sklearn-color-unfitted-level-0: #fff5e6;\n",
       "  --sklearn-color-unfitted-level-1: #f6e4d2;\n",
       "  --sklearn-color-unfitted-level-2: #ffe0b3;\n",
       "  --sklearn-color-unfitted-level-3: chocolate;\n",
       "  /* Definition of color scheme for fitted estimators */\n",
       "  --sklearn-color-fitted-level-0: #f0f8ff;\n",
       "  --sklearn-color-fitted-level-1: #d4ebff;\n",
       "  --sklearn-color-fitted-level-2: #b3dbfd;\n",
       "  --sklearn-color-fitted-level-3: cornflowerblue;\n",
       "\n",
       "  /* Specific color for light theme */\n",
       "  --sklearn-color-text-on-default-background: var(--sg-text-color, var(--theme-code-foreground, var(--jp-content-font-color1, black)));\n",
       "  --sklearn-color-background: var(--sg-background-color, var(--theme-background, var(--jp-layout-color0, white)));\n",
       "  --sklearn-color-border-box: var(--sg-text-color, var(--theme-code-foreground, var(--jp-content-font-color1, black)));\n",
       "  --sklearn-color-icon: #696969;\n",
       "\n",
       "  @media (prefers-color-scheme: dark) {\n",
       "    /* Redefinition of color scheme for dark theme */\n",
       "    --sklearn-color-text-on-default-background: var(--sg-text-color, var(--theme-code-foreground, var(--jp-content-font-color1, white)));\n",
       "    --sklearn-color-background: var(--sg-background-color, var(--theme-background, var(--jp-layout-color0, #111)));\n",
       "    --sklearn-color-border-box: var(--sg-text-color, var(--theme-code-foreground, var(--jp-content-font-color1, white)));\n",
       "    --sklearn-color-icon: #878787;\n",
       "  }\n",
       "}\n",
       "\n",
       "#sk-container-id-1 {\n",
       "  color: var(--sklearn-color-text);\n",
       "}\n",
       "\n",
       "#sk-container-id-1 pre {\n",
       "  padding: 0;\n",
       "}\n",
       "\n",
       "#sk-container-id-1 input.sk-hidden--visually {\n",
       "  border: 0;\n",
       "  clip: rect(1px 1px 1px 1px);\n",
       "  clip: rect(1px, 1px, 1px, 1px);\n",
       "  height: 1px;\n",
       "  margin: -1px;\n",
       "  overflow: hidden;\n",
       "  padding: 0;\n",
       "  position: absolute;\n",
       "  width: 1px;\n",
       "}\n",
       "\n",
       "#sk-container-id-1 div.sk-dashed-wrapped {\n",
       "  border: 1px dashed var(--sklearn-color-line);\n",
       "  margin: 0 0.4em 0.5em 0.4em;\n",
       "  box-sizing: border-box;\n",
       "  padding-bottom: 0.4em;\n",
       "  background-color: var(--sklearn-color-background);\n",
       "}\n",
       "\n",
       "#sk-container-id-1 div.sk-container {\n",
       "  /* jupyter's `normalize.less` sets `[hidden] { display: none; }`\n",
       "     but bootstrap.min.css set `[hidden] { display: none !important; }`\n",
       "     so we also need the `!important` here to be able to override the\n",
       "     default hidden behavior on the sphinx rendered scikit-learn.org.\n",
       "     See: https://github.com/scikit-learn/scikit-learn/issues/21755 */\n",
       "  display: inline-block !important;\n",
       "  position: relative;\n",
       "}\n",
       "\n",
       "#sk-container-id-1 div.sk-text-repr-fallback {\n",
       "  display: none;\n",
       "}\n",
       "\n",
       "div.sk-parallel-item,\n",
       "div.sk-serial,\n",
       "div.sk-item {\n",
       "  /* draw centered vertical line to link estimators */\n",
       "  background-image: linear-gradient(var(--sklearn-color-text-on-default-background), var(--sklearn-color-text-on-default-background));\n",
       "  background-size: 2px 100%;\n",
       "  background-repeat: no-repeat;\n",
       "  background-position: center center;\n",
       "}\n",
       "\n",
       "/* Parallel-specific style estimator block */\n",
       "\n",
       "#sk-container-id-1 div.sk-parallel-item::after {\n",
       "  content: \"\";\n",
       "  width: 100%;\n",
       "  border-bottom: 2px solid var(--sklearn-color-text-on-default-background);\n",
       "  flex-grow: 1;\n",
       "}\n",
       "\n",
       "#sk-container-id-1 div.sk-parallel {\n",
       "  display: flex;\n",
       "  align-items: stretch;\n",
       "  justify-content: center;\n",
       "  background-color: var(--sklearn-color-background);\n",
       "  position: relative;\n",
       "}\n",
       "\n",
       "#sk-container-id-1 div.sk-parallel-item {\n",
       "  display: flex;\n",
       "  flex-direction: column;\n",
       "}\n",
       "\n",
       "#sk-container-id-1 div.sk-parallel-item:first-child::after {\n",
       "  align-self: flex-end;\n",
       "  width: 50%;\n",
       "}\n",
       "\n",
       "#sk-container-id-1 div.sk-parallel-item:last-child::after {\n",
       "  align-self: flex-start;\n",
       "  width: 50%;\n",
       "}\n",
       "\n",
       "#sk-container-id-1 div.sk-parallel-item:only-child::after {\n",
       "  width: 0;\n",
       "}\n",
       "\n",
       "/* Serial-specific style estimator block */\n",
       "\n",
       "#sk-container-id-1 div.sk-serial {\n",
       "  display: flex;\n",
       "  flex-direction: column;\n",
       "  align-items: center;\n",
       "  background-color: var(--sklearn-color-background);\n",
       "  padding-right: 1em;\n",
       "  padding-left: 1em;\n",
       "}\n",
       "\n",
       "\n",
       "/* Toggleable style: style used for estimator/Pipeline/ColumnTransformer box that is\n",
       "clickable and can be expanded/collapsed.\n",
       "- Pipeline and ColumnTransformer use this feature and define the default style\n",
       "- Estimators will overwrite some part of the style using the `sk-estimator` class\n",
       "*/\n",
       "\n",
       "/* Pipeline and ColumnTransformer style (default) */\n",
       "\n",
       "#sk-container-id-1 div.sk-toggleable {\n",
       "  /* Default theme specific background. It is overwritten whether we have a\n",
       "  specific estimator or a Pipeline/ColumnTransformer */\n",
       "  background-color: var(--sklearn-color-background);\n",
       "}\n",
       "\n",
       "/* Toggleable label */\n",
       "#sk-container-id-1 label.sk-toggleable__label {\n",
       "  cursor: pointer;\n",
       "  display: flex;\n",
       "  width: 100%;\n",
       "  margin-bottom: 0;\n",
       "  padding: 0.5em;\n",
       "  box-sizing: border-box;\n",
       "  text-align: center;\n",
       "  align-items: start;\n",
       "  justify-content: space-between;\n",
       "  gap: 0.5em;\n",
       "}\n",
       "\n",
       "#sk-container-id-1 label.sk-toggleable__label .caption {\n",
       "  font-size: 0.6rem;\n",
       "  font-weight: lighter;\n",
       "  color: var(--sklearn-color-text-muted);\n",
       "}\n",
       "\n",
       "#sk-container-id-1 label.sk-toggleable__label-arrow:before {\n",
       "  /* Arrow on the left of the label */\n",
       "  content: \"▸\";\n",
       "  float: left;\n",
       "  margin-right: 0.25em;\n",
       "  color: var(--sklearn-color-icon);\n",
       "}\n",
       "\n",
       "#sk-container-id-1 label.sk-toggleable__label-arrow:hover:before {\n",
       "  color: var(--sklearn-color-text);\n",
       "}\n",
       "\n",
       "/* Toggleable content - dropdown */\n",
       "\n",
       "#sk-container-id-1 div.sk-toggleable__content {\n",
       "  max-height: 0;\n",
       "  max-width: 0;\n",
       "  overflow: hidden;\n",
       "  text-align: left;\n",
       "  /* unfitted */\n",
       "  background-color: var(--sklearn-color-unfitted-level-0);\n",
       "}\n",
       "\n",
       "#sk-container-id-1 div.sk-toggleable__content.fitted {\n",
       "  /* fitted */\n",
       "  background-color: var(--sklearn-color-fitted-level-0);\n",
       "}\n",
       "\n",
       "#sk-container-id-1 div.sk-toggleable__content pre {\n",
       "  margin: 0.2em;\n",
       "  border-radius: 0.25em;\n",
       "  color: var(--sklearn-color-text);\n",
       "  /* unfitted */\n",
       "  background-color: var(--sklearn-color-unfitted-level-0);\n",
       "}\n",
       "\n",
       "#sk-container-id-1 div.sk-toggleable__content.fitted pre {\n",
       "  /* unfitted */\n",
       "  background-color: var(--sklearn-color-fitted-level-0);\n",
       "}\n",
       "\n",
       "#sk-container-id-1 input.sk-toggleable__control:checked~div.sk-toggleable__content {\n",
       "  /* Expand drop-down */\n",
       "  max-height: 200px;\n",
       "  max-width: 100%;\n",
       "  overflow: auto;\n",
       "}\n",
       "\n",
       "#sk-container-id-1 input.sk-toggleable__control:checked~label.sk-toggleable__label-arrow:before {\n",
       "  content: \"▾\";\n",
       "}\n",
       "\n",
       "/* Pipeline/ColumnTransformer-specific style */\n",
       "\n",
       "#sk-container-id-1 div.sk-label input.sk-toggleable__control:checked~label.sk-toggleable__label {\n",
       "  color: var(--sklearn-color-text);\n",
       "  background-color: var(--sklearn-color-unfitted-level-2);\n",
       "}\n",
       "\n",
       "#sk-container-id-1 div.sk-label.fitted input.sk-toggleable__control:checked~label.sk-toggleable__label {\n",
       "  background-color: var(--sklearn-color-fitted-level-2);\n",
       "}\n",
       "\n",
       "/* Estimator-specific style */\n",
       "\n",
       "/* Colorize estimator box */\n",
       "#sk-container-id-1 div.sk-estimator input.sk-toggleable__control:checked~label.sk-toggleable__label {\n",
       "  /* unfitted */\n",
       "  background-color: var(--sklearn-color-unfitted-level-2);\n",
       "}\n",
       "\n",
       "#sk-container-id-1 div.sk-estimator.fitted input.sk-toggleable__control:checked~label.sk-toggleable__label {\n",
       "  /* fitted */\n",
       "  background-color: var(--sklearn-color-fitted-level-2);\n",
       "}\n",
       "\n",
       "#sk-container-id-1 div.sk-label label.sk-toggleable__label,\n",
       "#sk-container-id-1 div.sk-label label {\n",
       "  /* The background is the default theme color */\n",
       "  color: var(--sklearn-color-text-on-default-background);\n",
       "}\n",
       "\n",
       "/* On hover, darken the color of the background */\n",
       "#sk-container-id-1 div.sk-label:hover label.sk-toggleable__label {\n",
       "  color: var(--sklearn-color-text);\n",
       "  background-color: var(--sklearn-color-unfitted-level-2);\n",
       "}\n",
       "\n",
       "/* Label box, darken color on hover, fitted */\n",
       "#sk-container-id-1 div.sk-label.fitted:hover label.sk-toggleable__label.fitted {\n",
       "  color: var(--sklearn-color-text);\n",
       "  background-color: var(--sklearn-color-fitted-level-2);\n",
       "}\n",
       "\n",
       "/* Estimator label */\n",
       "\n",
       "#sk-container-id-1 div.sk-label label {\n",
       "  font-family: monospace;\n",
       "  font-weight: bold;\n",
       "  display: inline-block;\n",
       "  line-height: 1.2em;\n",
       "}\n",
       "\n",
       "#sk-container-id-1 div.sk-label-container {\n",
       "  text-align: center;\n",
       "}\n",
       "\n",
       "/* Estimator-specific */\n",
       "#sk-container-id-1 div.sk-estimator {\n",
       "  font-family: monospace;\n",
       "  border: 1px dotted var(--sklearn-color-border-box);\n",
       "  border-radius: 0.25em;\n",
       "  box-sizing: border-box;\n",
       "  margin-bottom: 0.5em;\n",
       "  /* unfitted */\n",
       "  background-color: var(--sklearn-color-unfitted-level-0);\n",
       "}\n",
       "\n",
       "#sk-container-id-1 div.sk-estimator.fitted {\n",
       "  /* fitted */\n",
       "  background-color: var(--sklearn-color-fitted-level-0);\n",
       "}\n",
       "\n",
       "/* on hover */\n",
       "#sk-container-id-1 div.sk-estimator:hover {\n",
       "  /* unfitted */\n",
       "  background-color: var(--sklearn-color-unfitted-level-2);\n",
       "}\n",
       "\n",
       "#sk-container-id-1 div.sk-estimator.fitted:hover {\n",
       "  /* fitted */\n",
       "  background-color: var(--sklearn-color-fitted-level-2);\n",
       "}\n",
       "\n",
       "/* Specification for estimator info (e.g. \"i\" and \"?\") */\n",
       "\n",
       "/* Common style for \"i\" and \"?\" */\n",
       "\n",
       ".sk-estimator-doc-link,\n",
       "a:link.sk-estimator-doc-link,\n",
       "a:visited.sk-estimator-doc-link {\n",
       "  float: right;\n",
       "  font-size: smaller;\n",
       "  line-height: 1em;\n",
       "  font-family: monospace;\n",
       "  background-color: var(--sklearn-color-background);\n",
       "  border-radius: 1em;\n",
       "  height: 1em;\n",
       "  width: 1em;\n",
       "  text-decoration: none !important;\n",
       "  margin-left: 0.5em;\n",
       "  text-align: center;\n",
       "  /* unfitted */\n",
       "  border: var(--sklearn-color-unfitted-level-1) 1pt solid;\n",
       "  color: var(--sklearn-color-unfitted-level-1);\n",
       "}\n",
       "\n",
       ".sk-estimator-doc-link.fitted,\n",
       "a:link.sk-estimator-doc-link.fitted,\n",
       "a:visited.sk-estimator-doc-link.fitted {\n",
       "  /* fitted */\n",
       "  border: var(--sklearn-color-fitted-level-1) 1pt solid;\n",
       "  color: var(--sklearn-color-fitted-level-1);\n",
       "}\n",
       "\n",
       "/* On hover */\n",
       "div.sk-estimator:hover .sk-estimator-doc-link:hover,\n",
       ".sk-estimator-doc-link:hover,\n",
       "div.sk-label-container:hover .sk-estimator-doc-link:hover,\n",
       ".sk-estimator-doc-link:hover {\n",
       "  /* unfitted */\n",
       "  background-color: var(--sklearn-color-unfitted-level-3);\n",
       "  color: var(--sklearn-color-background);\n",
       "  text-decoration: none;\n",
       "}\n",
       "\n",
       "div.sk-estimator.fitted:hover .sk-estimator-doc-link.fitted:hover,\n",
       ".sk-estimator-doc-link.fitted:hover,\n",
       "div.sk-label-container:hover .sk-estimator-doc-link.fitted:hover,\n",
       ".sk-estimator-doc-link.fitted:hover {\n",
       "  /* fitted */\n",
       "  background-color: var(--sklearn-color-fitted-level-3);\n",
       "  color: var(--sklearn-color-background);\n",
       "  text-decoration: none;\n",
       "}\n",
       "\n",
       "/* Span, style for the box shown on hovering the info icon */\n",
       ".sk-estimator-doc-link span {\n",
       "  display: none;\n",
       "  z-index: 9999;\n",
       "  position: relative;\n",
       "  font-weight: normal;\n",
       "  right: .2ex;\n",
       "  padding: .5ex;\n",
       "  margin: .5ex;\n",
       "  width: min-content;\n",
       "  min-width: 20ex;\n",
       "  max-width: 50ex;\n",
       "  color: var(--sklearn-color-text);\n",
       "  box-shadow: 2pt 2pt 4pt #999;\n",
       "  /* unfitted */\n",
       "  background: var(--sklearn-color-unfitted-level-0);\n",
       "  border: .5pt solid var(--sklearn-color-unfitted-level-3);\n",
       "}\n",
       "\n",
       ".sk-estimator-doc-link.fitted span {\n",
       "  /* fitted */\n",
       "  background: var(--sklearn-color-fitted-level-0);\n",
       "  border: var(--sklearn-color-fitted-level-3);\n",
       "}\n",
       "\n",
       ".sk-estimator-doc-link:hover span {\n",
       "  display: block;\n",
       "}\n",
       "\n",
       "/* \"?\"-specific style due to the `<a>` HTML tag */\n",
       "\n",
       "#sk-container-id-1 a.estimator_doc_link {\n",
       "  float: right;\n",
       "  font-size: 1rem;\n",
       "  line-height: 1em;\n",
       "  font-family: monospace;\n",
       "  background-color: var(--sklearn-color-background);\n",
       "  border-radius: 1rem;\n",
       "  height: 1rem;\n",
       "  width: 1rem;\n",
       "  text-decoration: none;\n",
       "  /* unfitted */\n",
       "  color: var(--sklearn-color-unfitted-level-1);\n",
       "  border: var(--sklearn-color-unfitted-level-1) 1pt solid;\n",
       "}\n",
       "\n",
       "#sk-container-id-1 a.estimator_doc_link.fitted {\n",
       "  /* fitted */\n",
       "  border: var(--sklearn-color-fitted-level-1) 1pt solid;\n",
       "  color: var(--sklearn-color-fitted-level-1);\n",
       "}\n",
       "\n",
       "/* On hover */\n",
       "#sk-container-id-1 a.estimator_doc_link:hover {\n",
       "  /* unfitted */\n",
       "  background-color: var(--sklearn-color-unfitted-level-3);\n",
       "  color: var(--sklearn-color-background);\n",
       "  text-decoration: none;\n",
       "}\n",
       "\n",
       "#sk-container-id-1 a.estimator_doc_link.fitted:hover {\n",
       "  /* fitted */\n",
       "  background-color: var(--sklearn-color-fitted-level-3);\n",
       "}\n",
       "</style><div id=\"sk-container-id-1\" class=\"sk-top-container\"><div class=\"sk-text-repr-fallback\"><pre>RandomForestRegressor(n_jobs=-1)</pre><b>In a Jupyter environment, please rerun this cell to show the HTML representation or trust the notebook. <br />On GitHub, the HTML representation is unable to render, please try loading this page with nbviewer.org.</b></div><div class=\"sk-container\" hidden><div class=\"sk-item\"><div class=\"sk-estimator fitted sk-toggleable\"><input class=\"sk-toggleable__control sk-hidden--visually\" id=\"sk-estimator-id-1\" type=\"checkbox\" checked><label for=\"sk-estimator-id-1\" class=\"sk-toggleable__label fitted sk-toggleable__label-arrow\"><div><div>RandomForestRegressor</div></div><div><a class=\"sk-estimator-doc-link fitted\" rel=\"noreferrer\" target=\"_blank\" href=\"https://scikit-learn.org/1.6/modules/generated/sklearn.ensemble.RandomForestRegressor.html\">?<span>Documentation for RandomForestRegressor</span></a><span class=\"sk-estimator-doc-link fitted\">i<span>Fitted</span></span></div></label><div class=\"sk-toggleable__content fitted\"><pre>RandomForestRegressor(n_jobs=-1)</pre></div> </div></div></div></div>"
      ]
     },
     "execution_count": 18,
     "metadata": {},
     "output_type": "execute_result"
    }
   ],
   "execution_count": 18
  },
  {
   "metadata": {},
   "cell_type": "markdown",
   "source": "## Model Evaluation",
   "id": "674169b9338ca497"
  },
  {
   "metadata": {
    "ExecuteTime": {
     "end_time": "2025-02-12T20:04:27.904672Z",
     "start_time": "2025-02-12T20:04:27.085717Z"
    }
   },
   "cell_type": "code",
   "source": "reg.score(x_test, y_test)",
   "id": "4dd026899a489376",
   "outputs": [
    {
     "data": {
      "text/plain": [
       "0.9989929706070426"
      ]
     },
     "execution_count": 19,
     "metadata": {},
     "output_type": "execute_result"
    }
   ],
   "execution_count": 19
  },
  {
   "metadata": {
    "ExecuteTime": {
     "end_time": "2025-02-12T20:04:33.385125Z",
     "start_time": "2025-02-12T20:04:30.261741Z"
    }
   },
   "cell_type": "code",
   "source": [
    "import math\n",
    "import matplotlib.pyplot as plt\n",
    "from sklearn.metrics import mean_squared_error, mean_absolute_error, r2_score\n",
    "\n",
    "y_pred = reg.predict(x_test)\n",
    "\n",
    "print(\"R2 Score: \", r2_score(y_test, y_pred))\n",
    "print(\"MSE Score: \", mean_squared_error(y_test, y_pred))\n",
    "print(\"MAE Score: \", mean_absolute_error(y_test, y_pred))\n",
    "print(\"RMSE Score: \", math.sqrt(mean_squared_error(y_test, y_pred)))\n",
    "\n",
    "plt.scatter(y_test, y_pred)\n",
    "plt.xlabel('Actual Flight Price')\n",
    "plt.ylabel('Predicted Flight Price')\n",
    "plt.title('Actual Flight Price vs Predicted Flight Price')"
   ],
   "id": "1b19ec17650290be",
   "outputs": [
    {
     "name": "stdout",
     "output_type": "stream",
     "text": [
      "R2 Score:  0.9989929706070426\n",
      "MSE Score:  3774.638141576539\n",
      "MAE Score:  51.914586317460326\n",
      "RMSE Score:  61.43808380456326\n"
     ]
    },
    {
     "data": {
      "text/plain": [
       "Text(0.5, 1.0, 'Actual Flight Price vs Predicted Flight Price')"
      ]
     },
     "execution_count": 20,
     "metadata": {},
     "output_type": "execute_result"
    },
    {
     "data": {
      "text/plain": [
       "<Figure size 640x480 with 1 Axes>"
      ],
      "image/png": "[encoded data removed]"
     },
     "metadata": {},
     "output_type": "display_data"
    }
   ],
   "execution_count": 20
  },
  {
   "metadata": {
    "ExecuteTime": {
     "end_time": "2025-02-12T20:04:38.515564Z",
     "start_time": "2025-02-12T20:04:38.311751Z"
    }
   },
   "cell_type": "code",
   "source": [
    "imp = dict(zip(reg.feature_names_in_, reg.feature_importances_))\n",
    "sorted_imp = sorted(imp.items(), key=lambda x: x[1], reverse=True)\n",
    "\n",
    "sorted_imp"
   ],
   "id": "e9392d81e91c661b",
   "outputs": [
    {
     "data": {
      "text/plain": [
       "[('class', np.float64(0.93439641289999)),\n",
       " ('duration', np.float64(0.03702315402838647)),\n",
       " ('stops', np.float64(0.015963258365541445)),\n",
       " ('days_left', np.float64(0.011978337020966113)),\n",
       " ('source', np.float64(6.577800187204982e-05)),\n",
       " ('arrival_Afternoon', np.float64(2.837002758648455e-05)),\n",
       " ('arrival_Evening', np.float64(2.7947111719425017e-05)),\n",
       " ('depart_Evening', np.float64(2.7938373249482383e-05)),\n",
       " ('airline_Fly Dubai', np.float64(2.7931434087064634e-05)),\n",
       " ('arrival_Morning', np.float64(2.7913028449911557e-05)),\n",
       " ('depart_Morning', np.float64(2.7881100217366574e-05)),\n",
       " ('airline_Etihad Airways', np.float64(2.7856641624544208e-05)),\n",
       " ('depart_Afternoon', np.float64(2.7734409244679383e-05)),\n",
       " ('arrival_Night', np.float64(2.7706489411542233e-05)),\n",
       " ('depart_Night', np.float64(2.768085202133918e-05)),\n",
       " ('airline_Air Arabia', np.float64(2.767899276829223e-05)),\n",
       " ('airline_Emirates', np.float64(2.7515294120382522e-05)),\n",
       " ('destination_Paris', np.float64(2.429371532593149e-05)),\n",
       " ('destination_Singapore', np.float64(2.4072553665863132e-05)),\n",
       " ('destination_Istanbul', np.float64(2.4023228097654087e-05)),\n",
       " ('destination_Bangkok', np.float64(2.3906540447010865e-05)),\n",
       " ('destination_Mumbai', np.float64(2.3904119908975026e-05)),\n",
       " ('destination_New York', np.float64(2.3865146149112563e-05)),\n",
       " ('destination_Frankfurt', np.float64(2.3863699626909552e-05)),\n",
       " ('destination_Sydney', np.float64(2.3795178551214217e-05)),\n",
       " ('destination_Cairo', np.float64(2.370184925659709e-05)),\n",
       " ('destination_London', np.float64(2.3479897714135697e-05))]"
      ]
     },
     "execution_count": 21,
     "metadata": {},
     "output_type": "execute_result"
    }
   ],
   "execution_count": 21
  },
  {
   "metadata": {
    "ExecuteTime": {
     "end_time": "2025-02-12T20:05:42.002172Z",
     "start_time": "2025-02-12T20:05:41.777176Z"
    }
   },
   "cell_type": "code",
   "source": [
    "plt.figure(figsize=(12, 6))\n",
    "plt.bar([x[0] for x in sorted_imp[:5]], [x[1] for x in sorted_imp[:5]])"
   ],
   "id": "601f59769a010e2a",
   "outputs": [
    {
     "data": {
      "text/plain": [
       "<BarContainer object of 5 artists>"
      ]
     },
     "execution_count": 23,
     "metadata": {},
     "output_type": "execute_result"
    },
    {
     "data": {
      "text/plain": [
       "<Figure size 1200x600 with 1 Axes>"
      ],
      "image/png": "[encoded data removed]"
     },
     "metadata": {},
     "output_type": "display_data"
    }
   ],
   "execution_count": 23
  },
  {
   "metadata": {},
   "cell_type": "markdown",
   "source": "## Hyperparameter Tuning",
   "id": "c771d05b5cce64f2"
  },
  {
   "metadata": {
    "ExecuteTime": {
     "end_time": "2025-02-12T20:57:15.837333Z",
     "start_time": "2025-02-12T20:06:57.027453Z"
    }
   },
   "cell_type": "code",
   "source": [
    "from sklearn.model_selection import GridSearchCV\n",
    "\n",
    "reg = RandomForestRegressor(n_jobs=-1)\n",
    "\n",
    "param_grid = {\n",
    "    \"n_estimators\": [100, 200, 300],\n",
    "    \"max_depth\": [None, 10, 20, 30],\n",
    "    \"min_samples_split\": [2, 5, 10],\n",
    "    \"min_samples_leaf\": [1, 2, 4],\n",
    "    \"max_features\": [\"auto\", \"sqrt\"]\n",
    "}\n",
    "\n",
    "grid_search = GridSearchCV(reg, param_grid, cv=5)\n",
    "grid_search.fit(x_train, y_train)\n",
    "\n",
    "best_params = grid_search.best_params_\n",
    "best_params"
   ],
   "id": "f9c2736185ed4b3b",
   "outputs": [
    {
     "name": "stderr",
     "output_type": "stream",
     "text": [
      "C:\\Users\\arman\\OneDrive - Axtrion GmbH & Co.KG\\Arman\\Projects\\Python\\AirlineTicketPriceAI\\.venv\\Lib\\site-packages\\sklearn\\model_selection\\_validation.py:528: FitFailedWarning: \n",
      "540 fits failed out of a total of 1080.\n",
      "The score on these train-test partitions for these parameters will be set to nan.\n",
      "If these failures are not expected, you can try to debug them by setting error_score='raise'.\n",
      "\n",
      "Below are more details about the failures:\n",
      "--------------------------------------------------------------------------------\n",
      "540 fits failed with the following error:\n",
      "Traceback (most recent call last):\n",
      "  File \"C:\\Users\\arman\\OneDrive - Axtrion GmbH & Co.KG\\Arman\\Projects\\Python\\AirlineTicketPriceAI\\.venv\\Lib\\site-packages\\sklearn\\model_selection\\_validation.py\", line 866, in _fit_and_score\n",
      "    estimator.fit(X_train, y_train, **fit_params)\n",
      "    ~~~~~~~~~~~~~^^^^^^^^^^^^^^^^^^^^^^^^^^^^^^^^\n",
      "  File \"C:\\Users\\arman\\OneDrive - Axtrion GmbH & Co.KG\\Arman\\Projects\\Python\\AirlineTicketPriceAI\\.venv\\Lib\\site-packages\\sklearn\\base.py\", line 1382, in wrapper\n",
      "    estimator._validate_params()\n",
      "    ~~~~~~~~~~~~~~~~~~~~~~~~~~^^\n",
      "  File \"C:\\Users\\arman\\OneDrive - Axtrion GmbH & Co.KG\\Arman\\Projects\\Python\\AirlineTicketPriceAI\\.venv\\Lib\\site-packages\\sklearn\\base.py\", line 436, in _validate_params\n",
      "    validate_parameter_constraints(\n",
      "    ~~~~~~~~~~~~~~~~~~~~~~~~~~~~~~^\n",
      "        self._parameter_constraints,\n",
      "        ^^^^^^^^^^^^^^^^^^^^^^^^^^^^\n",
      "        self.get_params(deep=False),\n",
      "        ^^^^^^^^^^^^^^^^^^^^^^^^^^^^\n",
      "        caller_name=self.__class__.__name__,\n",
      "        ^^^^^^^^^^^^^^^^^^^^^^^^^^^^^^^^^^^^\n",
      "    )\n",
      "    ^\n",
      "  File \"C:\\Users\\arman\\OneDrive - Axtrion GmbH & Co.KG\\Arman\\Projects\\Python\\AirlineTicketPriceAI\\.venv\\Lib\\site-packages\\sklearn\\utils\\_param_validation.py\", line 98, in validate_parameter_constraints\n",
      "    raise InvalidParameterError(\n",
      "    ...<2 lines>...\n",
      "    )\n",
      "sklearn.utils._param_validation.InvalidParameterError: The 'max_features' parameter of RandomForestRegressor must be an int in the range [1, inf), a float in the range (0.0, 1.0], a str among {'sqrt', 'log2'} or None. Got 'auto' instead.\n",
      "\n",
      "  warnings.warn(some_fits_failed_message, FitFailedWarning)\n",
      "C:\\Users\\arman\\OneDrive - Axtrion GmbH & Co.KG\\Arman\\Projects\\Python\\AirlineTicketPriceAI\\.venv\\Lib\\site-packages\\sklearn\\model_selection\\_search.py:1108: UserWarning: One or more of the test scores are non-finite: [       nan        nan        nan        nan        nan        nan\n",
      "        nan        nan        nan        nan        nan        nan\n",
      "        nan        nan        nan        nan        nan        nan\n",
      "        nan        nan        nan        nan        nan        nan\n",
      "        nan        nan        nan 0.99630855 0.99658181 0.9967317\n",
      " 0.99581123 0.99618351 0.99612543 0.994873   0.99480092 0.99497774\n",
      " 0.9954943  0.99597573 0.99592228 0.99544963 0.99580507 0.99576984\n",
      " 0.99468451 0.99473354 0.99499539 0.99417849 0.99477527 0.99467473\n",
      " 0.99413381 0.9942988  0.99458763 0.99401945 0.99421932 0.99450368\n",
      "        nan        nan        nan        nan        nan        nan\n",
      "        nan        nan        nan        nan        nan        nan\n",
      "        nan        nan        nan        nan        nan        nan\n",
      "        nan        nan        nan        nan        nan        nan\n",
      "        nan        nan        nan 0.957328   0.96141714 0.96082746\n",
      " 0.96020023 0.96024557 0.960074   0.9595949  0.96113385 0.96118818\n",
      " 0.95809807 0.96157383 0.96116972 0.95770434 0.95888533 0.96041939\n",
      " 0.95808315 0.95997933 0.95990987 0.96083919 0.95987736 0.96062346\n",
      " 0.96201594 0.96241475 0.96115747 0.96007397 0.96054539 0.96044511\n",
      "        nan        nan        nan        nan        nan        nan\n",
      "        nan        nan        nan        nan        nan        nan\n",
      "        nan        nan        nan        nan        nan        nan\n",
      "        nan        nan        nan        nan        nan        nan\n",
      "        nan        nan        nan 0.99579537 0.99619114 0.99616636\n",
      " 0.99517052 0.99571306 0.99568357 0.99442866 0.99478242 0.99462246\n",
      " 0.99533881 0.99533667 0.99571564 0.99512735 0.99528318 0.99554649\n",
      " 0.99440292 0.99442305 0.99449171 0.99377223 0.99421194 0.99446779\n",
      " 0.99383828 0.99433929 0.99402285 0.99394369 0.99403565 0.99415299\n",
      "        nan        nan        nan        nan        nan        nan\n",
      "        nan        nan        nan        nan        nan        nan\n",
      "        nan        nan        nan        nan        nan        nan\n",
      "        nan        nan        nan        nan        nan        nan\n",
      "        nan        nan        nan 0.99636165 0.9966771  0.99684072\n",
      " 0.99602617 0.99616771 0.99619441 0.99460631 0.9946998  0.99514976\n",
      " 0.99570906 0.99567647 0.99595542 0.99539398 0.99572812 0.99584675\n",
      " 0.99459795 0.99477767 0.994731   0.9941881  0.99460606 0.99447236\n",
      " 0.99401235 0.99442885 0.99460541 0.99394594 0.99431857 0.99435825]\n",
      "  warnings.warn(\n"
     ]
    },
    {
     "data": {
      "text/plain": [
       "{'max_depth': 30,\n",
       " 'max_features': 'sqrt',\n",
       " 'min_samples_leaf': 1,\n",
       " 'min_samples_split': 2,\n",
       " 'n_estimators': 300}"
      ]
     },
     "execution_count": 24,
     "metadata": {},
     "output_type": "execute_result"
    }
   ],
   "execution_count": 24
  },
  {
   "metadata": {
    "ExecuteTime": {
     "end_time": "2025-02-12T21:03:21.714081Z",
     "start_time": "2025-02-12T21:03:06.545392Z"
    }
   },
   "cell_type": "code",
   "source": [
    "reg = RandomForestRegressor(n_jobs=-1, **best_params)\n",
    "reg.fit(x_train, y_train)\n",
    "reg.score(x_test, y_test)"
   ],
   "id": "450ee63079eea976",
   "outputs": [
    {
     "data": {
      "text/plain": [
       "0.9969777002125573"
      ]
     },
     "execution_count": 25,
     "metadata": {},
     "output_type": "execute_result"
    }
   ],
   "execution_count": 25
  },
  {
   "metadata": {
    "ExecuteTime": {
     "end_time": "2025-02-12T21:04:35.247427Z",
     "start_time": "2025-02-12T21:04:33.603932Z"
    }
   },
   "cell_type": "code",
   "source": [
    "y_pred = reg.predict(x_test)\n",
    "\n",
    "print(\"R2 Score: \", r2_score(y_test, y_pred))\n",
    "print(\"MSE Score: \", mean_squared_error(y_test, y_pred))\n",
    "print(\"MAE Score: \", mean_absolute_error(y_test, y_pred))\n",
    "print(\"RMSE Score: \", math.sqrt(mean_squared_error(y_test, y_pred)))\n",
    "\n",
    "plt.scatter(y_test, y_pred)\n",
    "plt.xlabel('Actual Flight Price')\n",
    "plt.ylabel('Predicted Flight Price')\n",
    "plt.title('Actual Flight Price vs Predicted Flight Price')"
   ],
   "id": "673628cfb56f355f",
   "outputs": [
    {
     "name": "stdout",
     "output_type": "stream",
     "text": [
      "R2 Score:  0.9969777002125573\n",
      "MSE Score:  11328.455884944347\n",
      "MAE Score:  85.69808475822066\n",
      "RMSE Score:  106.43521919432659\n"
     ]
    },
    {
     "data": {
      "text/plain": [
       "Text(0.5, 1.0, 'Actual Flight Price vs Predicted Flight Price')"
      ]
     },
     "execution_count": 27,
     "metadata": {},
     "output_type": "execute_result"
    },
    {
     "data": {
      "text/plain": [
       "<Figure size 640x480 with 1 Axes>"
      ],
      "image/png": "[encoded data removed]"
     },
     "metadata": {},
     "output_type": "display_data"
    }
   ],
   "execution_count": 27
  },
  {
   "metadata": {
    "ExecuteTime": {
     "end_time": "2025-02-12T21:26:24.173180Z",
     "start_time": "2025-02-12T21:26:23.792662Z"
    }
   },
   "cell_type": "code",
   "source": "df",
   "id": "cfb8ac20dbbb3ac2",
   "outputs": [
    {
     "data": {
      "text/plain": [
       "        source  stops  class  duration  days_left  price  airline_Air Arabia  \\\n",
       "0            2      0      2        11        355   5366               False   \n",
       "1            1      1      2         7        308   5476               False   \n",
       "2            1      0      0         3         57    761               False   \n",
       "3            1      1      0        10         60   1610               False   \n",
       "4            1      2      0         7         93   1691               False   \n",
       "...        ...    ...    ...       ...        ...    ...                 ...   \n",
       "299995       1      1      1         3        336   1906               False   \n",
       "299996       1      0      2        14         79   6261               False   \n",
       "299997       0      1      1        13         27   3457                True   \n",
       "299998       0      2      1        13          5   3872               False   \n",
       "299999       0      0      0         3        133    478               False   \n",
       "\n",
       "        airline_Emirates  airline_Etihad Airways  airline_Fly Dubai  ...  \\\n",
       "0                  False                   False               True  ...   \n",
       "1                  False                    True              False  ...   \n",
       "2                   True                   False              False  ...   \n",
       "3                  False                   False               True  ...   \n",
       "4                  False                   False               True  ...   \n",
       "...                  ...                     ...                ...  ...   \n",
       "299995             False                    True              False  ...   \n",
       "299996             False                   False               True  ...   \n",
       "299997             False                   False              False  ...   \n",
       "299998             False                    True              False  ...   \n",
       "299999             False                    True              False  ...   \n",
       "\n",
       "        destination_Bangkok  destination_Cairo  destination_Frankfurt  \\\n",
       "0                     False              False                   True   \n",
       "1                     False              False                  False   \n",
       "2                     False              False                  False   \n",
       "3                     False              False                  False   \n",
       "4                     False              False                  False   \n",
       "...                     ...                ...                    ...   \n",
       "299995                False              False                  False   \n",
       "299996                False              False                  False   \n",
       "299997                 True              False                  False   \n",
       "299998                False              False                   True   \n",
       "299999                False              False                  False   \n",
       "\n",
       "        destination_Istanbul  destination_London  destination_Mumbai  \\\n",
       "0                      False               False               False   \n",
       "1                      False               False               False   \n",
       "2                       True               False               False   \n",
       "3                      False               False               False   \n",
       "4                      False                True               False   \n",
       "...                      ...                 ...                 ...   \n",
       "299995                 False                True               False   \n",
       "299996                  True               False               False   \n",
       "299997                 False               False               False   \n",
       "299998                 False               False               False   \n",
       "299999                 False               False               False   \n",
       "\n",
       "        destination_New York  destination_Paris  destination_Singapore  \\\n",
       "0                      False              False                  False   \n",
       "1                      False               True                  False   \n",
       "2                      False              False                  False   \n",
       "3                       True              False                  False   \n",
       "4                      False              False                  False   \n",
       "...                      ...                ...                    ...   \n",
       "299995                 False              False                  False   \n",
       "299996                 False              False                  False   \n",
       "299997                 False              False                  False   \n",
       "299998                 False              False                  False   \n",
       "299999                 False               True                  False   \n",
       "\n",
       "        destination_Sydney  \n",
       "0                    False  \n",
       "1                    False  \n",
       "2                    False  \n",
       "3                    False  \n",
       "4                    False  \n",
       "...                    ...  \n",
       "299995               False  \n",
       "299996               False  \n",
       "299997               False  \n",
       "299998               False  \n",
       "299999               False  \n",
       "\n",
       "[300000 rows x 28 columns]"
      ],
      "text/html": [
       "<div>\n",
       "<style scoped>\n",
       "    .dataframe tbody tr th:only-of-type {\n",
       "        vertical-align: middle;\n",
       "    }\n",
       "\n",
       "    .dataframe tbody tr th {\n",
       "        vertical-align: top;\n",
       "    }\n",
       "\n",
       "    .dataframe thead th {\n",
       "        text-align: right;\n",
       "    }\n",
       "</style>\n",
       "<table border=\"1\" class=\"dataframe\">\n",
       "  <thead>\n",
       "    <tr style=\"text-align: right;\">\n",
       "      <th></th>\n",
       "      <th>source</th>\n",
       "      <th>stops</th>\n",
       "      <th>class</th>\n",
       "      <th>duration</th>\n",
       "      <th>days_left</th>\n",
       "      <th>price</th>\n",
       "      <th>airline_Air Arabia</th>\n",
       "      <th>airline_Emirates</th>\n",
       "      <th>airline_Etihad Airways</th>\n",
       "      <th>airline_Fly Dubai</th>\n",
       "      <th>...</th>\n",
       "      <th>destination_Bangkok</th>\n",
       "      <th>destination_Cairo</th>\n",
       "      <th>destination_Frankfurt</th>\n",
       "      <th>destination_Istanbul</th>\n",
       "      <th>destination_London</th>\n",
       "      <th>destination_Mumbai</th>\n",
       "      <th>destination_New York</th>\n",
       "      <th>destination_Paris</th>\n",
       "      <th>destination_Singapore</th>\n",
       "      <th>destination_Sydney</th>\n",
       "    </tr>\n",
       "  </thead>\n",
       "  <tbody>\n",
       "    <tr>\n",
       "      <th>0</th>\n",
       "      <td>2</td>\n",
       "      <td>0</td>\n",
       "      <td>2</td>\n",
       "      <td>11</td>\n",
       "      <td>355</td>\n",
       "      <td>5366</td>\n",
       "      <td>False</td>\n",
       "      <td>False</td>\n",
       "      <td>False</td>\n",
       "      <td>True</td>\n",
       "      <td>...</td>\n",
       "      <td>False</td>\n",
       "      <td>False</td>\n",
       "      <td>True</td>\n",
       "      <td>False</td>\n",
       "      <td>False</td>\n",
       "      <td>False</td>\n",
       "      <td>False</td>\n",
       "      <td>False</td>\n",
       "      <td>False</td>\n",
       "      <td>False</td>\n",
       "    </tr>\n",
       "    <tr>\n",
       "      <th>1</th>\n",
       "      <td>1</td>\n",
       "      <td>1</td>\n",
       "      <td>2</td>\n",
       "      <td>7</td>\n",
       "      <td>308</td>\n",
       "      <td>5476</td>\n",
       "      <td>False</td>\n",
       "      <td>False</td>\n",
       "      <td>True</td>\n",
       "      <td>False</td>\n",
       "      <td>...</td>\n",
       "      <td>False</td>\n",
       "      <td>False</td>\n",
       "      <td>False</td>\n",
       "      <td>False</td>\n",
       "      <td>False</td>\n",
       "      <td>False</td>\n",
       "      <td>False</td>\n",
       "      <td>True</td>\n",
       "      <td>False</td>\n",
       "      <td>False</td>\n",
       "    </tr>\n",
       "    <tr>\n",
       "      <th>2</th>\n",
       "      <td>1</td>\n",
       "      <td>0</td>\n",
       "      <td>0</td>\n",
       "      <td>3</td>\n",
       "      <td>57</td>\n",
       "      <td>761</td>\n",
       "      <td>False</td>\n",
       "      <td>True</td>\n",
       "      <td>False</td>\n",
       "      <td>False</td>\n",
       "      <td>...</td>\n",
       "      <td>False</td>\n",
       "      <td>False</td>\n",
       "      <td>False</td>\n",
       "      <td>True</td>\n",
       "      <td>False</td>\n",
       "      <td>False</td>\n",
       "      <td>False</td>\n",
       "      <td>False</td>\n",
       "      <td>False</td>\n",
       "      <td>False</td>\n",
       "    </tr>\n",
       "    <tr>\n",
       "      <th>3</th>\n",
       "      <td>1</td>\n",
       "      <td>1</td>\n",
       "      <td>0</td>\n",
       "      <td>10</td>\n",
       "      <td>60</td>\n",
       "      <td>1610</td>\n",
       "      <td>False</td>\n",
       "      <td>False</td>\n",
       "      <td>False</td>\n",
       "      <td>True</td>\n",
       "      <td>...</td>\n",
       "      <td>False</td>\n",
       "      <td>False</td>\n",
       "      <td>False</td>\n",
       "      <td>False</td>\n",
       "      <td>False</td>\n",
       "      <td>False</td>\n",
       "      <td>True</td>\n",
       "      <td>False</td>\n",
       "      <td>False</td>\n",
       "      <td>False</td>\n",
       "    </tr>\n",
       "    <tr>\n",
       "      <th>4</th>\n",
       "      <td>1</td>\n",
       "      <td>2</td>\n",
       "      <td>0</td>\n",
       "      <td>7</td>\n",
       "      <td>93</td>\n",
       "      <td>1691</td>\n",
       "      <td>False</td>\n",
       "      <td>False</td>\n",
       "      <td>False</td>\n",
       "      <td>True</td>\n",
       "      <td>...</td>\n",
       "      <td>False</td>\n",
       "      <td>False</td>\n",
       "      <td>False</td>\n",
       "      <td>False</td>\n",
       "      <td>True</td>\n",
       "      <td>False</td>\n",
       "      <td>False</td>\n",
       "      <td>False</td>\n",
       "      <td>False</td>\n",
       "      <td>False</td>\n",
       "    </tr>\n",
       "    <tr>\n",
       "      <th>...</th>\n",
       "      <td>...</td>\n",
       "      <td>...</td>\n",
       "      <td>...</td>\n",
       "      <td>...</td>\n",
       "      <td>...</td>\n",
       "      <td>...</td>\n",
       "      <td>...</td>\n",
       "      <td>...</td>\n",
       "      <td>...</td>\n",
       "      <td>...</td>\n",
       "      <td>...</td>\n",
       "      <td>...</td>\n",
       "      <td>...</td>\n",
       "      <td>...</td>\n",
       "      <td>...</td>\n",
       "      <td>...</td>\n",
       "      <td>...</td>\n",
       "      <td>...</td>\n",
       "      <td>...</td>\n",
       "      <td>...</td>\n",
       "      <td>...</td>\n",
       "    </tr>\n",
       "    <tr>\n",
       "      <th>299995</th>\n",
       "      <td>1</td>\n",
       "      <td>1</td>\n",
       "      <td>1</td>\n",
       "      <td>3</td>\n",
       "      <td>336</td>\n",
       "      <td>1906</td>\n",
       "      <td>False</td>\n",
       "      <td>False</td>\n",
       "      <td>True</td>\n",
       "      <td>False</td>\n",
       "      <td>...</td>\n",
       "      <td>False</td>\n",
       "      <td>False</td>\n",
       "      <td>False</td>\n",
       "      <td>False</td>\n",
       "      <td>True</td>\n",
       "      <td>False</td>\n",
       "      <td>False</td>\n",
       "      <td>False</td>\n",
       "      <td>False</td>\n",
       "      <td>False</td>\n",
       "    </tr>\n",
       "    <tr>\n",
       "      <th>299996</th>\n",
       "      <td>1</td>\n",
       "      <td>0</td>\n",
       "      <td>2</td>\n",
       "      <td>14</td>\n",
       "      <td>79</td>\n",
       "      <td>6261</td>\n",
       "      <td>False</td>\n",
       "      <td>False</td>\n",
       "      <td>False</td>\n",
       "      <td>True</td>\n",
       "      <td>...</td>\n",
       "      <td>False</td>\n",
       "      <td>False</td>\n",
       "      <td>False</td>\n",
       "      <td>True</td>\n",
       "      <td>False</td>\n",
       "      <td>False</td>\n",
       "      <td>False</td>\n",
       "      <td>False</td>\n",
       "      <td>False</td>\n",
       "      <td>False</td>\n",
       "    </tr>\n",
       "    <tr>\n",
       "      <th>299997</th>\n",
       "      <td>0</td>\n",
       "      <td>1</td>\n",
       "      <td>1</td>\n",
       "      <td>13</td>\n",
       "      <td>27</td>\n",
       "      <td>3457</td>\n",
       "      <td>True</td>\n",
       "      <td>False</td>\n",
       "      <td>False</td>\n",
       "      <td>False</td>\n",
       "      <td>...</td>\n",
       "      <td>True</td>\n",
       "      <td>False</td>\n",
       "      <td>False</td>\n",
       "      <td>False</td>\n",
       "      <td>False</td>\n",
       "      <td>False</td>\n",
       "      <td>False</td>\n",
       "      <td>False</td>\n",
       "      <td>False</td>\n",
       "      <td>False</td>\n",
       "    </tr>\n",
       "    <tr>\n",
       "      <th>299998</th>\n",
       "      <td>0</td>\n",
       "      <td>2</td>\n",
       "      <td>1</td>\n",
       "      <td>13</td>\n",
       "      <td>5</td>\n",
       "      <td>3872</td>\n",
       "      <td>False</td>\n",
       "      <td>False</td>\n",
       "      <td>True</td>\n",
       "      <td>False</td>\n",
       "      <td>...</td>\n",
       "      <td>False</td>\n",
       "      <td>False</td>\n",
       "      <td>True</td>\n",
       "      <td>False</td>\n",
       "      <td>False</td>\n",
       "      <td>False</td>\n",
       "      <td>False</td>\n",
       "      <td>False</td>\n",
       "      <td>False</td>\n",
       "      <td>False</td>\n",
       "    </tr>\n",
       "    <tr>\n",
       "      <th>299999</th>\n",
       "      <td>0</td>\n",
       "      <td>0</td>\n",
       "      <td>0</td>\n",
       "      <td>3</td>\n",
       "      <td>133</td>\n",
       "      <td>478</td>\n",
       "      <td>False</td>\n",
       "      <td>False</td>\n",
       "      <td>True</td>\n",
       "      <td>False</td>\n",
       "      <td>...</td>\n",
       "      <td>False</td>\n",
       "      <td>False</td>\n",
       "      <td>False</td>\n",
       "      <td>False</td>\n",
       "      <td>False</td>\n",
       "      <td>False</td>\n",
       "      <td>False</td>\n",
       "      <td>True</td>\n",
       "      <td>False</td>\n",
       "      <td>False</td>\n",
       "    </tr>\n",
       "  </tbody>\n",
       "</table>\n",
       "<p>300000 rows × 28 columns</p>\n",
       "</div>"
      ]
     },
     "execution_count": 28,
     "metadata": {},
     "output_type": "execute_result"
    }
   ],
   "execution_count": 28
  }
 ],
 "metadata": {
  "kernelspec": {
   "display_name": "Python 3 (ipykernel)",
   "language": "python",
   "name": "python3"
  },
  "language_info": {
   "codemirror_mode": {
    "name": "ipython",
    "version": 3
   },
   "file_extension": ".py",
   "mimetype": "text/x-python",
   "name": "python",
   "nbconvert_exporter": "python",
   "pygments_lexer": "ipython3",
   "version": "3.13.0rc2"
  }
 },
 "nbformat": 4,
 "nbformat_minor": 5
}
